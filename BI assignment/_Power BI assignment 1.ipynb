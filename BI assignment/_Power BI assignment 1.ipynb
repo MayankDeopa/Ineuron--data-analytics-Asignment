{
 "cells": [
  {
   "cell_type": "markdown",
   "id": "9223e0d0",
   "metadata": {},
   "source": [
    "Q1  What do you mean by BI? Explain."
   ]
  },
  {
   "cell_type": "markdown",
   "id": "d3ca5fa4",
   "metadata": {},
   "source": [
    "Business intelligence includes data analytics and business analytics but uses them only as parts of the whole process. BI helps users draw conclusions from data analysis."
   ]
  },
  {
   "cell_type": "markdown",
   "id": "6ae0e7ae",
   "metadata": {},
   "source": [
    "Q2  How Power-BI helps in BI, and how does it help Analysts? Explain.\n",
    "\n"
   ]
  },
  {
   "cell_type": "markdown",
   "id": "5e4ff948",
   "metadata": {},
   "source": [
    "Microsoft Power BI is used to find insights within an organization's data. Power BI can help connect disparate data sets, transform and clean the data into a data model and create charts or graphs to provide visuals of the data. All of this can be shared with other Power BI users within the organization."
   ]
  },
  {
   "cell_type": "markdown",
   "id": "e1f9b45a",
   "metadata": {},
   "source": [
    "Q3  Explain Descriptive analytics?"
   ]
  },
  {
   "cell_type": "markdown",
   "id": "7ae06af9",
   "metadata": {},
   "source": [
    " Descriptive analytics is the process of parsing historical data to better understand the changes that have occurred in a business. Using a range of historic data and benchmarking, decision-makers obtain a holistic view of performance and trends on which to base business strategy."
   ]
  },
  {
   "cell_type": "markdown",
   "id": "a22103a3",
   "metadata": {},
   "source": [
    "Q4  Explain Predictive analytics?\n"
   ]
  },
  {
   "cell_type": "markdown",
   "id": "7d9e9b5d",
   "metadata": {},
   "source": [
    "Predictive analytics is a branch of advanced analytics that makes predictions about future outcomes using historical data combined with statistical modeling, data mining techniques and machine learning. Companies employ predictive analytics to find patterns in this data to identify risks and opportunities."
   ]
  },
  {
   "cell_type": "markdown",
   "id": "19da1226",
   "metadata": {},
   "source": [
    "Q5  Explain perspective analytics?"
   ]
  },
  {
   "cell_type": "markdown",
   "id": "18cf0d86",
   "metadata": {},
   "source": [
    "Prescriptive analytics builds upon the three other types of data analytics which describe the present and make predictions about the future. It then uses heuristics, machine learning and rule-based systems to make specific recommendations based on data and probability-weighted projections."
   ]
  },
  {
   "cell_type": "markdown",
   "id": "ed6da0e6",
   "metadata": {},
   "source": [
    "Q6 Write five real-life questions that PowerBi can solve.\n"
   ]
  },
  {
   "cell_type": "markdown",
   "id": "3ef92819",
   "metadata": {},
   "source": [
    "Key Business Issues Solved With Power BI\n",
    "1) Waiting On Figures. \n",
    "2) Using Data From Old Reports.\n",
    "3) Excessive Time Spent Preparing For Presentations. \n",
    "4) Being Unable To Find Specific Data Sets. \n",
    "5) Not Being Able To Determine Your Level Of Success."
   ]
  }
 ],
 "metadata": {
  "kernelspec": {
   "display_name": "Python 3 (ipykernel)",
   "language": "python",
   "name": "python3"
  },
  "language_info": {
   "codemirror_mode": {
    "name": "ipython",
    "version": 3
   },
   "file_extension": ".py",
   "mimetype": "text/x-python",
   "name": "python",
   "nbconvert_exporter": "python",
   "pygments_lexer": "ipython3",
   "version": "3.9.12"
  }
 },
 "nbformat": 4,
 "nbformat_minor": 5
}
