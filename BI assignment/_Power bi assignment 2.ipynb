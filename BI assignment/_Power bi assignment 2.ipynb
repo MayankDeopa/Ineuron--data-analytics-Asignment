{
 "cells": [
  {
   "cell_type": "markdown",
   "id": "97192d04",
   "metadata": {},
   "source": [
    "Q1  Explain the advantages of Natural Queries in PowerBi with an example?\n"
   ]
  },
  {
   "cell_type": "markdown",
   "id": "691cc533",
   "metadata": {},
   "source": [
    "Benefit #1 – Guided NLQ is a unique self-service BI experience\n",
    "Benefit #2 – Every question is understood by Guided NLQ\n",
    "Benefit #3 – Guided NLQ makes it simple to ask complex questions\n",
    "Benefit #4 – Guided NLQ is integrated throughout Yellowfin\n",
    "Benefit #5 – It’s easy to embed Guided NLQ into your applications"
   ]
  },
  {
   "cell_type": "markdown",
   "id": "d463f0c9",
   "metadata": {},
   "source": [
    "Q2  Explain Web Front End(WFE) cluster from Power BI Service Architecture?\n"
   ]
  },
  {
   "cell_type": "markdown",
   "id": "0b3c894e",
   "metadata": {},
   "source": [
    "The Web Front End (WFE) cluster. The WFE cluster manages the initial connection and authentication to the Power BI service. The Back-End cluster. Once authenticated, the Back-End handles all subsequent user interactions. Power BI uses Azure Active Directory (Azure AD) to store and manage user identities."
   ]
  },
  {
   "cell_type": "markdown",
   "id": "245ddaea",
   "metadata": {},
   "source": [
    "Q3 Explain Back End cluster from Power BI Service Architecture?\n"
   ]
  },
  {
   "cell_type": "markdown",
   "id": "04f07fbd",
   "metadata": {},
   "source": [
    "The Back-End cluster determines how authenticated clients interact with the Power BI service. The Back-End cluster manages visualizations, user dashboards, datasets, reports, data storage, data connections, data refresh, and other aspects of interacting with the Power BI service."
   ]
  },
  {
   "cell_type": "markdown",
   "id": "bc1dc035",
   "metadata": {},
   "source": [
    "Q4  What ASP.NET component does in Power BI Service Architecture?\n",
    "\n"
   ]
  },
  {
   "cell_type": "markdown",
   "id": "0853d30c",
   "metadata": {},
   "source": [
    "ASP.NET is a free web framework for building great websites and web applications using HTML, CSS, and JavaScript. You can also create Web APIs and use real-time technologies like Web Sockets. ASP.NET Core is an alternative to ASP.NET."
   ]
  },
  {
   "cell_type": "markdown",
   "id": "0c032df7",
   "metadata": {},
   "source": [
    "Q5  Compare Microsoft Excel and PowerBi Desktop on the following features:\n",
    "Data import\n",
    "Data transformation\n",
    "Modeling\n",
    "Reporting\n",
    "Server Deployment\n",
    "Convert Models\n",
    "Cost\n",
    "\n"
   ]
  },
  {
   "cell_type": "markdown",
   "id": "91ff1963",
   "metadata": {},
   "source": [
    "DATA MODEL-  in ms excel data model is totally focused in simple data model with wide variety of features.\n",
    "             in power bi data model is focused with data ingest and building potentially complex model easily\n",
    "DEPLOYMENT - Power BI can connect to a large number of data sources, while Excel's connectivity capacity is limited. Also, unlike Excel, Power BI can be easily used from mobile devices. Power BI has faster processing than Excel. Power BI dashboards are more visually appealing, interactive and customizable than those in Excel.\n",
    "DATA IMPORT -Power BI also has Power Query; it can fetch data from everywhere.Excel can get data from everywhere with Power Query.\n",
    "DATA TRANSFORMATION -Power BI can handle large amounts of data with the Power Pivot engine model. More importantly, it does not restrict to any specific versions of Excel or Office 365.Excel struggles to handle a large amount of data and often says “Not Responding” error with a large quantity of data.\n"
   ]
  },
  {
   "cell_type": "markdown",
   "id": "3b84f55c",
   "metadata": {},
   "source": [
    "Q6  List 20 data sources supported by Power Bi desktop.\n",
    "\n"
   ]
  },
  {
   "cell_type": "code",
   "execution_count": null,
   "id": "c6df6319",
   "metadata": {},
   "outputs": [],
   "source": [
    "SQL Server database\n",
    "Access database\n",
    "SQL Server Analysis Services database\n",
    "Oracle database\n",
    "IBM Db2 database\n",
    "IBM Informix database (Beta)\n",
    "IBM Netezza\n",
    "MySQL database\n",
    "PostgreSQL database\n",
    "Sybase database\n",
    "Teradata database\n",
    "SAP HANA database\n",
    "SAP Business Warehouse Application Server\n",
    "SAP Business Warehouse Message Server\n",
    "Amazon Redshift\n",
    "Impala\n",
    "Google BigQuery\n",
    "Google BigQuery (Azure AD)(Beta)\n",
    "Vertica\n",
    "Snowflake\n",
    " "
   ]
  }
 ],
 "metadata": {
  "kernelspec": {
   "display_name": "Python 3 (ipykernel)",
   "language": "python",
   "name": "python3"
  },
  "language_info": {
   "codemirror_mode": {
    "name": "ipython",
    "version": 3
   },
   "file_extension": ".py",
   "mimetype": "text/x-python",
   "name": "python",
   "nbconvert_exporter": "python",
   "pygments_lexer": "ipython3",
   "version": "3.9.12"
  }
 },
 "nbformat": 4,
 "nbformat_minor": 5
}
