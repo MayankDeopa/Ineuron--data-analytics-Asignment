{
 "cells": [
  {
   "cell_type": "markdown",
   "id": "ffbd5cd5",
   "metadata": {},
   "source": [
    "1. What do you mean by cells in an excel sheet?"
   ]
  },
  {
   "cell_type": "markdown",
   "id": "39765fc9",
   "metadata": {},
   "source": [
    "A cell is the intersection of a row and a column or in other words, where a row and column meet. "
   ]
  },
  {
   "cell_type": "markdown",
   "id": "b470d7ce",
   "metadata": {},
   "source": [
    "2. How can you restrict someone from copying a cell from your worksheet?"
   ]
  },
  {
   "cell_type": "markdown",
   "id": "94f3cbec",
   "metadata": {},
   "source": [
    "On the worksheet, select the cells you want to lock. Press Ctrl+Shift+F again. On the Protection tab, check the Locked box, and click OK. To protect the sheet, click Review > Protect Sheet."
   ]
  },
  {
   "cell_type": "markdown",
   "id": "9a0a251c",
   "metadata": {},
   "source": [
    "3. How to move or copy the worksheet into another workbook?"
   ]
  },
  {
   "cell_type": "markdown",
   "id": "d9114c49",
   "metadata": {},
   "source": [
    "On the Window menu, click the workbook that contains the sheet that you want to move. Click the sheet that you want to copy to the other workbook. On the Edit menu, click Sheet > Move or Copy Sheet. On the To book menu, click the workbook that you want to move the sheet to."
   ]
  },
  {
   "cell_type": "markdown",
   "id": "59c11935",
   "metadata": {},
   "source": [
    "4. Which key is used as a shortcut for opening a new window document?"
   ]
  },
  {
   "cell_type": "markdown",
   "id": "0a3695d3",
   "metadata": {},
   "source": [
    "press Ctrl+N."
   ]
  },
  {
   "cell_type": "markdown",
   "id": "47534b00",
   "metadata": {},
   "source": [
    "5. What are the things that we can notice after opening the Excel interface?"
   ]
  },
  {
   "cell_type": "markdown",
   "id": "4f867f93",
   "metadata": {},
   "source": [
    "The Excel Starter startup screen appears, and a blank spreadsheet is displayed. In Excel Starter, a spreadsheet is called a worksheet, and worksheets are stored in a file called a workbook. Workbooks can have one or more worksheets in them."
   ]
  },
  {
   "cell_type": "markdown",
   "id": "570dbc5a",
   "metadata": {},
   "source": [
    "6. When to use a relative cell reference in excel?"
   ]
  },
  {
   "cell_type": "markdown",
   "id": "0aae89e4",
   "metadata": {},
   "source": [
    "For example, if you copy the formula =A1+B1 from row 1 to row 2, the formula will become =A2+B2. Relative references are especially convenient whenever you need to repeat the same calculation across multiple rows or columns."
   ]
  }
 ],
 "metadata": {
  "kernelspec": {
   "display_name": "Python 3 (ipykernel)",
   "language": "python",
   "name": "python3"
  },
  "language_info": {
   "codemirror_mode": {
    "name": "ipython",
    "version": 3
   },
   "file_extension": ".py",
   "mimetype": "text/x-python",
   "name": "python",
   "nbconvert_exporter": "python",
   "pygments_lexer": "ipython3",
   "version": "3.9.12"
  }
 },
 "nbformat": 4,
 "nbformat_minor": 5
}
