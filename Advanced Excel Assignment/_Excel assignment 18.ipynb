{
 "cells": [
  {
   "cell_type": "markdown",
   "id": "6ee864eb",
   "metadata": {},
   "source": [
    " Q1 What are comments and what is the importance if commenting in any\n",
    "code?"
   ]
  },
  {
   "cell_type": "markdown",
   "id": "d2600e4b",
   "metadata": {},
   "source": [
    "Comments are text notes added to the program to provide explanatory information about the source code. They are used in a programming language to document the program and remind programmers of what tricky things they just did with the code and also helps the later generation for understanding and maintenance of code."
   ]
  },
  {
   "cell_type": "markdown",
   "id": "bd85c4e7",
   "metadata": {},
   "source": [
    "Q2 What is Call Statement and when do you use this statement?"
   ]
  },
  {
   "cell_type": "markdown",
   "id": "904dd641",
   "metadata": {},
   "source": [
    "The CALL statement transfers control from one object program to another within the run unit. The program containing the CALL statement is the calling program; the program identified in the CALL statement is the called subprogram."
   ]
  },
  {
   "cell_type": "markdown",
   "id": "df8a5507",
   "metadata": {},
   "source": [
    "Q3 How do you compile a code in VBA? What are some of the problem that\n",
    "you might face when you don’t compile a code?"
   ]
  },
  {
   "cell_type": "markdown",
   "id": "d9d90151",
   "metadata": {},
   "source": [
    "You can compile your VBA code by clicking Debug Menu → Compile VBA Project. A compile error for a missing “End if” part of an IF statement. Every individual line in the code is correct, but together, they don't represent a complete IF statement."
   ]
  },
  {
   "cell_type": "markdown",
   "id": "c9f7400b",
   "metadata": {},
   "source": [
    "Q4 What are hot keys in VBA? How can you create your own hot keys?"
   ]
  },
  {
   "cell_type": "markdown",
   "id": "c3d3fdf0",
   "metadata": {},
   "source": [
    "A hot key is a key or a combination of keys on a computer keyboard that, when pressed at one time, performs a task (such as starting an application) more quickly than by using a mouse or other input device. Hot keys are sometimes called shortcut keys. Hot keys are supported by many operating system and applications.Begin keyboard shortcuts with CTRL or a function key. Press the TAB key repeatedly until the cursor is in the Press new shortcut key box. Press the combination of keys that you want to assign. For example, press CTRL plus the key that you want to use."
   ]
  }
 ],
 "metadata": {
  "kernelspec": {
   "display_name": "Python 3 (ipykernel)",
   "language": "python",
   "name": "python3"
  },
  "language_info": {
   "codemirror_mode": {
    "name": "ipython",
    "version": 3
   },
   "file_extension": ".py",
   "mimetype": "text/x-python",
   "name": "python",
   "nbconvert_exporter": "python",
   "pygments_lexer": "ipython3",
   "version": "3.9.12"
  }
 },
 "nbformat": 4,
 "nbformat_minor": 5
}
