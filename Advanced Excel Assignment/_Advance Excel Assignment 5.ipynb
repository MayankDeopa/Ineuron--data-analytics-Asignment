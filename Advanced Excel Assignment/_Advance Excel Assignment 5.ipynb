{
 "cells": [
  {
   "cell_type": "markdown",
   "id": "83608d7b",
   "metadata": {},
   "source": [
    "1. How many types of conditions are available in conditional formatting on Excel?"
   ]
  },
  {
   "cell_type": "markdown",
   "id": "ae48e5ce",
   "metadata": {},
   "source": [
    "There are 5 types of conditional formatting visualizations available:\n",
    "\n",
    "1) Background Color Shading (of cells)\n",
    "2) Foreground Color Shading (of fonts)\n",
    "3) Data Bars\n",
    "4)Icons (which have 4 different image types)\n",
    "5)Values"
   ]
  },
  {
   "cell_type": "markdown",
   "id": "4eb12a7e",
   "metadata": {},
   "source": [
    "2. How to insert border in Excel with Format Cells dialog?"
   ]
  },
  {
   "cell_type": "markdown",
   "id": "c3890d6c",
   "metadata": {},
   "source": [
    "We have to follow following steps-\n",
    "1) Select the cell(s) where you want to add the border.\n",
    "2) Click the Font dialog box launcher.\n",
    "3) Click the Border tab.\n",
    "4) Select the line style and color you want.\n",
    "5) You now need to specify where you want the new border style to appear.\n",
    "6)Select a preset option or apply borders individually in the Borders section.\n",
    "7)Click OK."
   ]
  },
  {
   "cell_type": "markdown",
   "id": "92f2d977",
   "metadata": {},
   "source": [
    "3. How to Format Numbers as Currency in Excel?"
   ]
  },
  {
   "cell_type": "markdown",
   "id": "030c0146",
   "metadata": {},
   "source": [
    "On the Home tab, click the Dialog Box Launcher next to Number. Tip: You can also press Ctrl+1 to open the Format Cells dialog box. In the Format Cells dialog box, in the Category list, click Currency or Accounting. In the Symbol box, click the currency symbol that you want."
   ]
  },
  {
   "cell_type": "markdown",
   "id": "5815eee9",
   "metadata": {},
   "source": [
    "4. What are the steps to format numbers in Excel with the Percent style?"
   ]
  },
  {
   "cell_type": "markdown",
   "id": "99c51ff3",
   "metadata": {},
   "source": [
    "On the Home tab, in the Number group, click the icon next to Number to display the Format Cells dialog box. In the Format Cells dialog box, in the Category list, click Percentage. In the Decimal places box, enter the number of decimal places that you want to display."
   ]
  },
  {
   "cell_type": "markdown",
   "id": "7f9635ab",
   "metadata": {},
   "source": [
    "5. What is a shortcut to merge two or more cells in excel?"
   ]
  },
  {
   "cell_type": "markdown",
   "id": "8fd47ec8",
   "metadata": {},
   "source": [
    "ALT H+M+M"
   ]
  },
  {
   "cell_type": "markdown",
   "id": "3ccb76a2",
   "metadata": {},
   "source": [
    "6. How do you use text commands in Excel?"
   ]
  },
  {
   "cell_type": "markdown",
   "id": "d6bbc854",
   "metadata": {},
   "source": [
    " \n",
    "The TEXT function lets you change the way a number appears by applying formatting to it with format codes. It's useful in situations where you want to display numbers in a more readable format, or you want to combine numbers with text or symbols."
   ]
  }
 ],
 "metadata": {
  "kernelspec": {
   "display_name": "Python 3 (ipykernel)",
   "language": "python",
   "name": "python3"
  },
  "language_info": {
   "codemirror_mode": {
    "name": "ipython",
    "version": 3
   },
   "file_extension": ".py",
   "mimetype": "text/x-python",
   "name": "python",
   "nbconvert_exporter": "python",
   "pygments_lexer": "ipython3",
   "version": "3.9.12"
  }
 },
 "nbformat": 4,
 "nbformat_minor": 5
}
