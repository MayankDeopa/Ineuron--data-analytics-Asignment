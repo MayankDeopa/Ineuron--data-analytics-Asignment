{
 "cells": [
  {
   "cell_type": "markdown",
   "id": "2e84cce7",
   "metadata": {},
   "source": [
    "1. How and when to use the AutoSum command in excel?"
   ]
  },
  {
   "cell_type": "markdown",
   "id": "9315cd58",
   "metadata": {},
   "source": [
    "If you need to sum a column or row of numbers, let Excel do the math for you. Select a cell next to the numbers you want to sum, click AutoSum on the Home tab, press Enter, and you're done"
   ]
  },
  {
   "cell_type": "markdown",
   "id": "21f20b74",
   "metadata": {},
   "source": [
    "2. What is the shortcut key to perform AutoSum?"
   ]
  },
  {
   "cell_type": "markdown",
   "id": "eb25843b",
   "metadata": {},
   "source": [
    "Alt+="
   ]
  },
  {
   "cell_type": "markdown",
   "id": "16c4f689",
   "metadata": {},
   "source": [
    "3. How do you get rid of Formula that omits adjacent cells?"
   ]
  },
  {
   "cell_type": "markdown",
   "id": "9891aebf",
   "metadata": {},
   "source": [
    "The error you are getting means that there are cells near the ones in your formula that are of a similar format and Excel thinks that you might have missed them by accident."
   ]
  },
  {
   "cell_type": "markdown",
   "id": "c97ad06f",
   "metadata": {},
   "source": [
    "4. How do you select non-adjacent cells in Excel 2016?"
   ]
  },
  {
   "cell_type": "markdown",
   "id": "e3dabbbc",
   "metadata": {},
   "source": [
    "Click on a cell to select it.  \n",
    "To select a range, select a cell, then with the left mouse button pressed, drag over the other cells. ...\n",
    "To select non-adjacent cells and cell ranges, hold Ctrl and select the cells.\n",
    "\n"
   ]
  },
  {
   "cell_type": "markdown",
   "id": "2ed8576c",
   "metadata": {},
   "source": [
    "5. What happens if you choose a column, hold down the Alt key and press the letters\n",
    "ocw in quick succession?"
   ]
  },
  {
   "cell_type": "markdown",
   "id": "1f05001c",
   "metadata": {},
   "source": [
    "The contents of the first cell in the selected column will be replaced with the letters 'O-C-W'."
   ]
  },
  {
   "cell_type": "markdown",
   "id": "42889830",
   "metadata": {},
   "source": [
    "6. If you right-click on a row reference number and click on Insert, where will the row\n",
    "be added?"
   ]
  },
  {
   "cell_type": "markdown",
   "id": "af699298",
   "metadata": {},
   "source": [
    "A new row is inserted above the cell(s) you originally selected."
   ]
  }
 ],
 "metadata": {
  "kernelspec": {
   "display_name": "Python 3 (ipykernel)",
   "language": "python",
   "name": "python3"
  },
  "language_info": {
   "codemirror_mode": {
    "name": "ipython",
    "version": 3
   },
   "file_extension": ".py",
   "mimetype": "text/x-python",
   "name": "python",
   "nbconvert_exporter": "python",
   "pygments_lexer": "ipython3",
   "version": "3.9.12"
  }
 },
 "nbformat": 4,
 "nbformat_minor": 5
}
