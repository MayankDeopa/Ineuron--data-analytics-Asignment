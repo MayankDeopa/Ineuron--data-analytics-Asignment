{
 "cells": [
  {
   "cell_type": "markdown",
   "id": "e4f86fa9",
   "metadata": {},
   "source": [
    "1. What does the dollar($) sign do?"
   ]
  },
  {
   "cell_type": "markdown",
   "id": "57f18363",
   "metadata": {},
   "source": [
    "An absolute reference is designated in a formula by the addition of a dollar sign ($) before the column and row. "
   ]
  },
  {
   "cell_type": "markdown",
   "id": "18c6dd91",
   "metadata": {},
   "source": [
    "2. How to Change the Reference from Relative to Absolute (or Mixed)?"
   ]
  },
  {
   "cell_type": "markdown",
   "id": "cb8780be",
   "metadata": {},
   "source": [
    "Press F4 to switch between the reference types.\n"
   ]
  },
  {
   "cell_type": "markdown",
   "id": "91665e43",
   "metadata": {},
   "source": [
    "3. Explain the order of operations in excel?"
   ]
  },
  {
   "cell_type": "markdown",
   "id": "c82c9f4b",
   "metadata": {},
   "source": [
    "In general, Excel's order of operation follows the acronym PEMDAS (Parentheses, Exponents, Multiplication, Division, Addition, Subtraction)  "
   ]
  },
  {
   "cell_type": "markdown",
   "id": "1371235d",
   "metadata": {},
   "source": [
    "4. What, according to you, are the top 5 functions in excel and write a basic syntax\n",
    "for any of two?\n",
    "\n"
   ]
  },
  {
   "cell_type": "markdown",
   "id": "2c840492",
   "metadata": {},
   "source": [
    "Top five function in excel are SUM(),AVERAGE(),COUNT(),SUBTOTAL() and POWER()\n",
    "syntax of sum()  is   =SUM(C2:C4)\n",
    "syntax of average() is   =AVERAGE(C2, C3, C4)"
   ]
  },
  {
   "cell_type": "markdown",
   "id": "018cba5b",
   "metadata": {},
   "source": [
    "5. When would you use the subtotal function?"
   ]
  },
  {
   "cell_type": "markdown",
   "id": "f49fe12e",
   "metadata": {},
   "source": [
    "Use the SUBTOTAL function to exclude filtered or hidden rows when calculating a total on the worksheet. You can choose any one of the 11 functions that SUBTOTAL can calculate, such as Sum, Average, Count or Max.\n",
    "\n"
   ]
  },
  {
   "cell_type": "markdown",
   "id": "221a5ab0",
   "metadata": {},
   "source": [
    "6. What is the syntax of the vlookup function? Explain the terms in it?"
   ]
  },
  {
   "cell_type": "markdown",
   "id": "e1c5b7ba",
   "metadata": {},
   "source": [
    "syntax is VLOOKUP(lookup_value, table_array, col_index_num,[range_lookup])\n",
    "1) Lookup_value is a value which user wants to search in the first column of a range array and wants the respective row values to be returned.\n",
    "2) table_array is a range in Excel worksheet which user wants to search the lookup value in the first column of this table array.\n",
    "3) Column_index number should be always greater than equals to 1 and less than or equals to number of columns in the given table array range.\n",
    "4) Range_lookup parameter is to specify whether user required an exact match values or an approximate match values. If you omit this parameter, Vlookup function treat it as TRUE as default.\n"
   ]
  },
  {
   "cell_type": "code",
   "execution_count": null,
   "id": "90c5f1ce",
   "metadata": {},
   "outputs": [],
   "source": []
  },
  {
   "cell_type": "code",
   "execution_count": null,
   "id": "9acd034b",
   "metadata": {},
   "outputs": [],
   "source": []
  }
 ],
 "metadata": {
  "kernelspec": {
   "display_name": "Python 3 (ipykernel)",
   "language": "python",
   "name": "python3"
  },
  "language_info": {
   "codemirror_mode": {
    "name": "ipython",
    "version": 3
   },
   "file_extension": ".py",
   "mimetype": "text/x-python",
   "name": "python",
   "nbconvert_exporter": "python",
   "pygments_lexer": "ipython3",
   "version": "3.9.12"
  }
 },
 "nbformat": 4,
 "nbformat_minor": 5
}
