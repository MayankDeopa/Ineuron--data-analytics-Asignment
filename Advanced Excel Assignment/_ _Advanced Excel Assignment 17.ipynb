{
 "cells": [
  {
   "cell_type": "markdown",
   "id": "f1af7355",
   "metadata": {},
   "source": [
    "Q1 What are modules in VBA and describe in detail the importance of\n",
    "creating a module?"
   ]
  },
  {
   "cell_type": "markdown",
   "id": "278a89de",
   "metadata": {},
   "source": [
    "A VBA module is used to store any VBA code that you have written in the VBE (Visual Basic Editor). Class module in VBA can be defined as the module that helps to create your own objects with your own properties and methods like worksheets and range objectives of excel. In simple terms with the help VBA class module, we can create objects with own properties."
   ]
  },
  {
   "cell_type": "markdown",
   "id": "d8e8f4b2",
   "metadata": {},
   "source": [
    "Q2 What is Class Module and what is the difference between a Class\n",
    "Module and a Module?"
   ]
  },
  {
   "cell_type": "markdown",
   "id": "e259e3bc",
   "metadata": {},
   "source": [
    "Class module in VBA can be defined as the module that helps to create your own objects with your own properties and methods like worksheets and range objectives of excel.\n",
    "Class modules do not have visual component as compare to form module. Standard module: – Standard module are container for procedure and declaration, commonly accessed by other module with in the application."
   ]
  },
  {
   "cell_type": "markdown",
   "id": "89a213aa",
   "metadata": {},
   "source": [
    "Q3 What are Procedures? What is a Function Procedure and a Property\n",
    "Procedure?"
   ]
  },
  {
   "cell_type": "markdown",
   "id": "4c20bf84",
   "metadata": {},
   "source": [
    "A procedure tells the application how to perform a specific task. Use procedures to divide complex code tasks into more manageable units.\n",
    "A property procedure is a series of Visual Basic statements that allow a programmer to create and manipulate custom properties. \n",
    "A Function procedure is a series of Visual Basic statements enclosed by the Function and End Function statements."
   ]
  },
  {
   "cell_type": "markdown",
   "id": "9e2f97f0",
   "metadata": {},
   "source": [
    "Q4 What are Procedures? What is a Function Procedure and a Property\n",
    "Procedure?"
   ]
  },
  {
   "cell_type": "markdown",
   "id": "9b860a5a",
   "metadata": {},
   "source": [
    "A procedure tells the application how to perform a specific task. Use procedures to divide complex code tasks into more manageable units.\n",
    "A property procedure is a series of Visual Basic statements that allow a programmer to create and manipulate custom properties. \n",
    "A Function procedure is a series of Visual Basic statements enclosed by the Function and End Function statements."
   ]
  },
  {
   "cell_type": "markdown",
   "id": "42a999ff",
   "metadata": {},
   "source": [
    "Q5 What is a sub procedure and what are all the parts of a sub procedure\n",
    "and when are they used?"
   ]
  },
  {
   "cell_type": "markdown",
   "id": "9e5f5f47",
   "metadata": {},
   "source": [
    "A Sub procedure is a series of Visual Basic statements enclosed by the Sub and End Sub statements that performs actions but doesn't return a value. A Sub procedure can take arguments, such as constants, variables, or expressions that are passed by a calling procedure"
   ]
  },
  {
   "cell_type": "markdown",
   "id": "7cb546bd",
   "metadata": {},
   "source": [
    "Q6 How do you add comments in a VBA code? How do you add multiple\n",
    "lines of comments in a VBA code?"
   ]
  },
  {
   "cell_type": "markdown",
   "id": "dc867478",
   "metadata": {},
   "source": [
    "VBA has the simplest way to convert a line of code into a comment. You simply need to place an apostrophe in front of the text you wish to turn into non-executable code, and the remaining text in that line will turn into a comment\n",
    " \n",
    "The comment symbol: Apostrophe', or “REM,” has to be used on each line if the comments require more than one line"
   ]
  },
  {
   "cell_type": "markdown",
   "id": "06cd7159",
   "metadata": {},
   "source": [
    "Q7 How do you add comments in a VBA code? How do you add multiple\n",
    "lines of comments in a VBA code?"
   ]
  },
  {
   "cell_type": "markdown",
   "id": "d3771701",
   "metadata": {},
   "source": [
    "VBA has the simplest way to convert a line of code into a comment. You simply need to place an apostrophe in front of the text you wish to turn into non-executable code, and the remaining text in that line will turn into a comment\n",
    " \n",
    "The comment symbol: Apostrophe', or “REM,” has to be used on each line if the comments require more than one line"
   ]
  }
 ],
 "metadata": {
  "kernelspec": {
   "display_name": "Python 3 (ipykernel)",
   "language": "python",
   "name": "python3"
  },
  "language_info": {
   "codemirror_mode": {
    "name": "ipython",
    "version": 3
   },
   "file_extension": ".py",
   "mimetype": "text/x-python",
   "name": "python",
   "nbconvert_exporter": "python",
   "pygments_lexer": "ipython3",
   "version": "3.9.12"
  }
 },
 "nbformat": 4,
 "nbformat_minor": 5
}
