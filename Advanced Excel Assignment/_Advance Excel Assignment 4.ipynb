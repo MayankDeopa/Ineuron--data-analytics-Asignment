{
 "cells": [
  {
   "cell_type": "markdown",
   "id": "e9f1395d",
   "metadata": {},
   "source": [
    "1. To use the ribbon commands, what menu and grouping of commands will you\n",
    "find the Insert and Delete command?"
   ]
  },
  {
   "cell_type": "markdown",
   "id": "968ad5a8",
   "metadata": {},
   "source": [
    "There are six main categories for commands: one-click, toggle, split buttons, drop-down and tick box. Categories can be mixed so it is useful to understand the basics to develop your Excel skills."
   ]
  },
  {
   "cell_type": "markdown",
   "id": "69292760",
   "metadata": {},
   "source": [
    "2. If you set a row height or column width to 0 (zero), what happens to the row and\n",
    "column?"
   ]
  },
  {
   "cell_type": "markdown",
   "id": "31efdb64",
   "metadata": {},
   "source": [
    "It sets to the default width or height."
   ]
  },
  {
   "cell_type": "markdown",
   "id": "123e6129",
   "metadata": {},
   "source": [
    "3. Is there a need to change the height and width in a cell? Why?"
   ]
  },
  {
   "cell_type": "markdown",
   "id": "4fd9600b",
   "metadata": {},
   "source": [
    "It is necessary to change width and height in excel to fit the data. Excel by default provide equal width and height with respect to columns and rows. Whenever we enter a lengthy data, few characters will get displayed and other will be present inside the cell but will be hidden to the user."
   ]
  },
  {
   "cell_type": "markdown",
   "id": "fa9deca5",
   "metadata": {},
   "source": [
    "4. What is the keyboard shortcut to unhide rows?"
   ]
  },
  {
   "cell_type": "markdown",
   "id": "a8a4127a",
   "metadata": {},
   "source": [
    "Ctrl+Shift+9."
   ]
  },
  {
   "cell_type": "markdown",
   "id": "d25921c0",
   "metadata": {},
   "source": [
    "5. How to hide rows containing blank cells?"
   ]
  },
  {
   "cell_type": "markdown",
   "id": "7fe9f3dd",
   "metadata": {},
   "source": [
    "You have to follow the following steps\n",
    "1) Select the range that contains empty cells you want to hide.\n",
    "2) On the Home tab, in the Editing group, click Find & Select > Go To Special.\n",
    "3) In the Go To Special dialog box, select the Blanks radio button, and click OK. ...\n",
    "4) Press Ctrl + 9 to hide the corresponding rows."
   ]
  },
  {
   "cell_type": "markdown",
   "id": "8204e26f",
   "metadata": {},
   "source": [
    "6. What are the steps to hide the duplicate values using conditional formatting in\n",
    "excel?"
   ]
  },
  {
   "cell_type": "markdown",
   "id": "0fb619df",
   "metadata": {},
   "source": [
    "For this we have to follow the following steps-\n",
    "1) To filter for unique values, click Data > Sort & Filter > Advanced.\n",
    "2) To remove duplicate values, click Data > Data Tools > Remove Duplicates.\n",
    "3)To highlight unique or duplicate values, use the Conditional Formatting command in the Style group on the Home tab."
   ]
  }
 ],
 "metadata": {
  "kernelspec": {
   "display_name": "Python 3 (ipykernel)",
   "language": "python",
   "name": "python3"
  },
  "language_info": {
   "codemirror_mode": {
    "name": "ipython",
    "version": 3
   },
   "file_extension": ".py",
   "mimetype": "text/x-python",
   "name": "python",
   "nbconvert_exporter": "python",
   "pygments_lexer": "ipython3",
   "version": "3.9.12"
  }
 },
 "nbformat": 4,
 "nbformat_minor": 5
}
