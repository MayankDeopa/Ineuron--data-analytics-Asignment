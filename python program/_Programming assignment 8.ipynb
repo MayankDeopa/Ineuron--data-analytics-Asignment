{
 "cells": [
  {
   "cell_type": "markdown",
   "id": "d9784a63",
   "metadata": {},
   "source": [
    "1. Write a Python Program to Add Two Matrices?"
   ]
  },
  {
   "cell_type": "code",
   "execution_count": 1,
   "id": "1c0c0271",
   "metadata": {},
   "outputs": [
    {
     "name": "stdout",
     "output_type": "stream",
     "text": [
      "[10, 10, 10]\n",
      "[10, 10, 10]\n",
      "[10, 10, 10]\n"
     ]
    }
   ],
   "source": [
    "# Program to add two matrices\n",
    "# using list comprehension\n",
    "  \n",
    "X = [[1,2,3],\n",
    "    [4 ,5,6],\n",
    "    [7 ,8,9]]\n",
    "  \n",
    "Y = [[9,8,7],\n",
    "    [6,5,4],\n",
    "    [3,2,1]]\n",
    " \n",
    "result = [[X[i][j] + Y[i][j]  for j in range\n",
    "(len(X[0]))] for i in range(len(X))]\n",
    "  \n",
    "for r in result:\n",
    "    print(r)"
   ]
  },
  {
   "cell_type": "markdown",
   "id": "14d982f1",
   "metadata": {},
   "source": [
    "2. Write a Python Program to Multiply Two Matrices?"
   ]
  },
  {
   "cell_type": "code",
   "execution_count": 2,
   "id": "6e25ca97",
   "metadata": {},
   "outputs": [
    {
     "name": "stdout",
     "output_type": "stream",
     "text": [
      "[114, 160, 60, 27]\n",
      "[74, 97, 73, 14]\n",
      "[119, 157, 112, 23]\n"
     ]
    }
   ],
   "source": [
    "# Program to multiply two matrices using nested loops\n",
    " \n",
    "# take a 3x3 matrix\n",
    "A = [[12, 7, 3],\n",
    "    [4, 5, 6],\n",
    "    [7, 8, 9]]\n",
    " \n",
    "# take a 3x4 matrix   \n",
    "B = [[5, 8, 1, 2],\n",
    "    [6, 7, 3, 0],\n",
    "    [4, 5, 9, 1]]\n",
    "     \n",
    "result = [[0, 0, 0, 0],\n",
    "        [0, 0, 0, 0],\n",
    "        [0, 0, 0, 0]]\n",
    " \n",
    "# iterating by row of A\n",
    "for i in range(len(A)):\n",
    " \n",
    "    # iterating by column by B\n",
    "    for j in range(len(B[0])):\n",
    " \n",
    "        # iterating by rows of B\n",
    "        for k in range(len(B)):\n",
    "            result[i][j] += A[i][k] * B[k][j]\n",
    " \n",
    "for r in result:\n",
    "    print(r)"
   ]
  },
  {
   "cell_type": "markdown",
   "id": "8e74220b",
   "metadata": {},
   "source": [
    "3. Write a Python Program to Transpose a Matrix?"
   ]
  },
  {
   "cell_type": "code",
   "execution_count": 3,
   "id": "2c0d10fe",
   "metadata": {},
   "outputs": [
    {
     "name": "stdout",
     "output_type": "stream",
     "text": [
      "Result matrix is\n",
      "1  2  3  \n",
      "1  2  3  \n",
      "1  2  3  \n",
      "1  2  3  \n"
     ]
    }
   ],
   "source": [
    "# Python3 Program to find\n",
    "# transpose of a matrix\n",
    " \n",
    "M = 3\n",
    "N = 4\n",
    " \n",
    "# This function stores\n",
    "# transpose of A[][] in B[][]\n",
    " \n",
    "def transpose(A, B):\n",
    " \n",
    " for i in range(N):\n",
    "  for j in range(M):\n",
    "   B[i][j] = A[j][i]\n",
    " \n",
    "# driver code\n",
    "A = [ [1, 1, 1, 1],\n",
    " [2, 2, 2, 2],\n",
    " [3, 3, 3, 3]]\n",
    " \n",
    " \n",
    "# To store result\n",
    "B = [[0 for x in range(M)] for y in range(N)]\n",
    " \n",
    "transpose(A, B)\n",
    " \n",
    "print(\"Result matrix is\")\n",
    "for i in range(N):\n",
    " for j in range(M):\n",
    "  print(B[i][j], \" \", end='')\n",
    " print() "
   ]
  },
  {
   "cell_type": "markdown",
   "id": "2f584196",
   "metadata": {},
   "source": [
    "4. Write a Python Program to Sort Words in Alphabetic Order?"
   ]
  },
  {
   "cell_type": "code",
   "execution_count": 4,
   "id": "99d6280c",
   "metadata": {},
   "outputs": [
    {
     "name": "stdout",
     "output_type": "stream",
     "text": [
      "brown dog fox jumps lazy over quick the the\n"
     ]
    }
   ],
   "source": [
    "# Python3 program to sort the words of a string in\n",
    "# alphabetical order\n",
    " \n",
    "# Function to sort the words in alphabetical order\n",
    "def Func(S):\n",
    "  W = S.split(\" \")\n",
    "  for i in range(len(W)):\n",
    "     \n",
    "      # convert all the words into lowercase\n",
    "      W[i]=W[i].lower() \n",
    "  S = sorted(W)\n",
    "  print(' '.join(S))\n",
    " \n",
    "# Driver code\n",
    "S = \"the Quick brown fox jumPs over the lazY Dog\"\n",
    " \n",
    "# function call\n",
    "Func(S)"
   ]
  },
  {
   "cell_type": "markdown",
   "id": "6d5e976e",
   "metadata": {},
   "source": [
    "5. Write a Python Program to Remove Punctuation From a String?"
   ]
  },
  {
   "cell_type": "code",
   "execution_count": 5,
   "id": "b8979b48",
   "metadata": {},
   "outputs": [
    {
     "name": "stdout",
     "output_type": "stream",
     "text": [
      "The original string is : Gfg, is best : for ! Geeks ;\n",
      "The string after punctuation filter : Gfg is best  for  Geeks \n"
     ]
    }
   ],
   "source": [
    "# initializing string\n",
    "test_str = \"Gfg, is best : for ! Geeks ;\"\n",
    " \n",
    "# printing original string\n",
    "print(\"The original string is : \" + test_str)\n",
    " \n",
    "# initializing punctuations string\n",
    "punc = '''!()-[]{};:'\"\\,<>./?@#$%^&*_~'''\n",
    " \n",
    "# Removing punctuations in string\n",
    "# Using loop + punctuation string\n",
    "for ele in test_str:\n",
    "    if ele in punc:\n",
    "        test_str = test_str.replace(ele, \"\")\n",
    " \n",
    "# printing result\n",
    "print(\"The string after punctuation filter : \" + test_str)"
   ]
  }
 ],
 "metadata": {
  "kernelspec": {
   "display_name": "Python 3 (ipykernel)",
   "language": "python",
   "name": "python3"
  },
  "language_info": {
   "codemirror_mode": {
    "name": "ipython",
    "version": 3
   },
   "file_extension": ".py",
   "mimetype": "text/x-python",
   "name": "python",
   "nbconvert_exporter": "python",
   "pygments_lexer": "ipython3",
   "version": "3.9.12"
  }
 },
 "nbformat": 4,
 "nbformat_minor": 5
}
