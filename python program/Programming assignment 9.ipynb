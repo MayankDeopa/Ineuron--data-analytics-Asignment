{
 "cells": [
  {
   "cell_type": "markdown",
   "id": "a4971fba",
   "metadata": {},
   "source": [
    "1. Write a Python program to check if the given number is a Disarium Number?"
   ]
  },
  {
   "cell_type": "code",
   "execution_count": 11,
   "id": "a60edabb",
   "metadata": {},
   "outputs": [],
   "source": [
    "def is_disarium(num):\n",
    "    temp = 0\n",
    "    for i in range(len(str(num))):\n",
    "        temp += int(str(num)[i]) ** (i + 1)\n",
    "    return temp == num"
   ]
  },
  {
   "cell_type": "code",
   "execution_count": 12,
   "id": "3b9eb4d5",
   "metadata": {},
   "outputs": [
    {
     "data": {
      "text/plain": [
       "False"
      ]
     },
     "execution_count": 12,
     "metadata": {},
     "output_type": "execute_result"
    }
   ],
   "source": [
    "is_disarium(25)"
   ]
  },
  {
   "cell_type": "code",
   "execution_count": 13,
   "id": "2df7d3cd",
   "metadata": {},
   "outputs": [
    {
     "data": {
      "text/plain": [
       "True"
      ]
     },
     "execution_count": 13,
     "metadata": {},
     "output_type": "execute_result"
    }
   ],
   "source": [
    "is_disarium(89)"
   ]
  },
  {
   "cell_type": "markdown",
   "id": "6b01d85e",
   "metadata": {},
   "source": [
    "2. Write a Python program to print all disarium numbers between 1 to 100?"
   ]
  },
  {
   "cell_type": "code",
   "execution_count": 14,
   "id": "28cf2a45",
   "metadata": {},
   "outputs": [
    {
     "name": "stdout",
     "output_type": "stream",
     "text": [
      "The disarium numbers between 1 and 100 are : \n",
      "1\n",
      "2\n",
      "3\n",
      "4\n",
      "5\n",
      "6\n",
      "7\n",
      "8\n",
      "9\n",
      "89\n"
     ]
    }
   ],
   "source": [
    "def length_calculation(my_val):\n",
    "   len_val = 0\n",
    "   while(my_val != 0):\n",
    "      len_val = len_val + 1\n",
    "      my_val = my_val//10\n",
    "   return len_val\n",
    "def digit_sum(my_num):\n",
    "   remaining = sum_val = 0\n",
    "   len_fun = length_calculation(my_num)\n",
    "   while(my_num > 0):\n",
    "      remaining = my_num%10\n",
    "      sum_val = sum_val + (remaining**len_fun)\n",
    "      my_num = my_num//10\n",
    "      len_fun = len_fun - 1\n",
    "   return sum_val\n",
    "ini_result = 0\n",
    "print(\"The disarium numbers between 1 and 100 are : \")\n",
    "for i in range(1, 101):\n",
    "   ini_result = digit_sum(i)\n",
    "   if(ini_result == i):\n",
    "      print(i)"
   ]
  },
  {
   "cell_type": "markdown",
   "id": "0af2ba96",
   "metadata": {},
   "source": [
    "3. Write a Python program to check if the given number is Happy Number?"
   ]
  },
  {
   "cell_type": "code",
   "execution_count": 15,
   "id": "7e5b15fb",
   "metadata": {},
   "outputs": [
    {
     "name": "stdout",
     "output_type": "stream",
     "text": [
      "82 is a happy number\n"
     ]
    }
   ],
   "source": [
    "#isHappyNumber() will determine whether a number is happy or not    \n",
    "def isHappyNumber(num):    \n",
    "    rem = sum = 0;    \n",
    "        \n",
    "    #Calculates the sum of squares of digits    \n",
    "    while(num > 0):    \n",
    "        rem = num%10;    \n",
    "        sum = sum + (rem*rem);    \n",
    "        num = num//10;    \n",
    "    return sum;    \n",
    "        \n",
    "num = 82;    \n",
    "result = num;    \n",
    "     \n",
    "while(result != 1 and result != 4):    \n",
    "    result = isHappyNumber(result);    \n",
    "     \n",
    "#Happy number always ends with 1    \n",
    "if(result == 1):    \n",
    "    print(str(num) + \" is a happy number\");    \n",
    "#Unhappy number ends in a cycle of repeating numbers which contain 4    \n",
    "elif(result == 4):    \n",
    "    print(str(num) + \" is not a happy number\");   "
   ]
  },
  {
   "cell_type": "markdown",
   "id": "8bfb9c5d",
   "metadata": {},
   "source": [
    "4. Write a Python program to print all happy numbers between 1 and 100?"
   ]
  },
  {
   "cell_type": "code",
   "execution_count": 16,
   "id": "35a701f7",
   "metadata": {},
   "outputs": [
    {
     "name": "stdout",
     "output_type": "stream",
     "text": [
      "The list of happy numbers between 1 and 100 are : \n",
      "1\n",
      "7\n",
      "10\n",
      "13\n",
      "19\n",
      "23\n",
      "28\n",
      "31\n",
      "32\n",
      "44\n",
      "49\n",
      "68\n",
      "70\n",
      "79\n",
      "82\n",
      "86\n",
      "91\n",
      "94\n",
      "97\n",
      "100\n"
     ]
    }
   ],
   "source": [
    "def check_happy_num(my_num):\n",
    "   remaining = sum_val = 0\n",
    "   while(my_num > 0):\n",
    "      remaining = my_num%10\n",
    "      sum_val = sum_val + (remaining*remaining)\n",
    "      my_num = my_num//10\n",
    "   return sum_val\n",
    "print(\"The list of happy numbers between 1 and 100 are : \")\n",
    "for i in range(1, 101):\n",
    "   my_result = i\n",
    "   while(my_result != 1 and my_result != 4):\n",
    "      my_result = check_happy_num(my_result)\n",
    "   if(my_result == 1):\n",
    "      print(i)"
   ]
  },
  {
   "cell_type": "markdown",
   "id": "984e587f",
   "metadata": {},
   "source": [
    "5. Write a Python program to determine whether the given number is a Harshad Number?"
   ]
  },
  {
   "cell_type": "code",
   "execution_count": 17,
   "id": "55be47b8",
   "metadata": {},
   "outputs": [
    {
     "name": "stdout",
     "output_type": "stream",
     "text": [
      "82 is not a harshad number\n"
     ]
    }
   ],
   "source": [
    "um = 156;    \n",
    "rem = sum = 0;    \n",
    "     \n",
    "#Make a copy of num and store it in variable n    \n",
    "n = num;    \n",
    "     \n",
    "#Calculates sum of digits    \n",
    "while(num > 0):    \n",
    "    rem = num%10;    \n",
    "    sum = sum + rem;    \n",
    "    num = num//10;    \n",
    "     \n",
    "#Checks whether the number is divisible by the sum of digits    \n",
    "if(n%sum == 0):    \n",
    "    print(str(n) + \" is a harshad number\");    \n",
    "else:    \n",
    "    print(str(n) + \" is not a harshad number\");    "
   ]
  },
  {
   "cell_type": "markdown",
   "id": "5cb44386",
   "metadata": {},
   "source": [
    "6. Write a Python program to print all pronic numbers between 1 and 100?"
   ]
  },
  {
   "cell_type": "code",
   "execution_count": 18,
   "id": "dbadf119",
   "metadata": {},
   "outputs": [
    {
     "name": "stdout",
     "output_type": "stream",
     "text": [
      "Pronic numbers between 1 and 100: \n",
      "2\n",
      " \n",
      "6\n",
      " \n",
      "12\n",
      " \n",
      "20\n",
      " \n",
      "30\n",
      " \n",
      "42\n",
      " \n",
      "56\n",
      " \n",
      "72\n",
      " \n",
      "90\n",
      " \n"
     ]
    }
   ],
   "source": [
    "#isPronicNumber() will determine whether a given number is a pronic number or not    \n",
    "def isPronicNumber(num):    \n",
    "    flag = False;    \n",
    "        \n",
    "    for j in range(1, num+1):    \n",
    "        #Checks for pronic number by multiplying consecutive numbers    \n",
    "        if((j*(j+1)) == num):    \n",
    "            flag = True;    \n",
    "            break;    \n",
    "    return flag;    \n",
    "     \n",
    "#Displays pronic numbers between 1 and 100    \n",
    "print(\"Pronic numbers between 1 and 100: \");    \n",
    "for i in range(1, 101):    \n",
    "    if(isPronicNumber(i)):    \n",
    "        print(i),    \n",
    "        print(\" \"),    "
   ]
  }
 ],
 "metadata": {
  "kernelspec": {
   "display_name": "Python 3 (ipykernel)",
   "language": "python",
   "name": "python3"
  },
  "language_info": {
   "codemirror_mode": {
    "name": "ipython",
    "version": 3
   },
   "file_extension": ".py",
   "mimetype": "text/x-python",
   "name": "python",
   "nbconvert_exporter": "python",
   "pygments_lexer": "ipython3",
   "version": "3.9.12"
  }
 },
 "nbformat": 4,
 "nbformat_minor": 5
}
